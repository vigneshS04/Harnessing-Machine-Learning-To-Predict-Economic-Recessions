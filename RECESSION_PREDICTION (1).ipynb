{
  "nbformat": 4,
  "nbformat_minor": 0,
  "metadata": {
    "colab": {
      "provenance": []
    },
    "kernelspec": {
      "name": "python3",
      "display_name": "Python 3"
    },
    "language_info": {
      "name": "python"
    },
    "widgets": {
      "application/vnd.jupyter.widget-state+json": {
        "9717b3001622417da42850e7bc65ec13": {
          "model_module": "@jupyter-widgets/controls",
          "model_name": "FloatSliderModel",
          "model_module_version": "1.5.0",
          "state": {
            "_dom_classes": [],
            "_model_module": "@jupyter-widgets/controls",
            "_model_module_version": "1.5.0",
            "_model_name": "FloatSliderModel",
            "_view_count": null,
            "_view_module": "@jupyter-widgets/controls",
            "_view_module_version": "1.5.0",
            "_view_name": "FloatSliderView",
            "continuous_update": true,
            "description": "GDP Growth:",
            "description_tooltip": null,
            "disabled": false,
            "layout": "IPY_MODEL_e60a1dad6b0946d68e0af0e9b22471f6",
            "max": 10,
            "min": -10,
            "orientation": "horizontal",
            "readout": true,
            "readout_format": ".2f",
            "step": 0.1,
            "style": "IPY_MODEL_f7ccc4a147194f3594f13c73529bb1b1",
            "value": 4.8
          }
        },
        "e60a1dad6b0946d68e0af0e9b22471f6": {
          "model_module": "@jupyter-widgets/base",
          "model_name": "LayoutModel",
          "model_module_version": "1.2.0",
          "state": {
            "_model_module": "@jupyter-widgets/base",
            "_model_module_version": "1.2.0",
            "_model_name": "LayoutModel",
            "_view_count": null,
            "_view_module": "@jupyter-widgets/base",
            "_view_module_version": "1.2.0",
            "_view_name": "LayoutView",
            "align_content": null,
            "align_items": null,
            "align_self": null,
            "border": null,
            "bottom": null,
            "display": null,
            "flex": null,
            "flex_flow": null,
            "grid_area": null,
            "grid_auto_columns": null,
            "grid_auto_flow": null,
            "grid_auto_rows": null,
            "grid_column": null,
            "grid_gap": null,
            "grid_row": null,
            "grid_template_areas": null,
            "grid_template_columns": null,
            "grid_template_rows": null,
            "height": null,
            "justify_content": null,
            "justify_items": null,
            "left": null,
            "margin": null,
            "max_height": null,
            "max_width": null,
            "min_height": null,
            "min_width": null,
            "object_fit": null,
            "object_position": null,
            "order": null,
            "overflow": null,
            "overflow_x": null,
            "overflow_y": null,
            "padding": null,
            "right": null,
            "top": null,
            "visibility": null,
            "width": null
          }
        },
        "f7ccc4a147194f3594f13c73529bb1b1": {
          "model_module": "@jupyter-widgets/controls",
          "model_name": "SliderStyleModel",
          "model_module_version": "1.5.0",
          "state": {
            "_model_module": "@jupyter-widgets/controls",
            "_model_module_version": "1.5.0",
            "_model_name": "SliderStyleModel",
            "_view_count": null,
            "_view_module": "@jupyter-widgets/base",
            "_view_module_version": "1.2.0",
            "_view_name": "StyleView",
            "description_width": "",
            "handle_color": null
          }
        },
        "3d9772b6e4af487ab6b0090430e2516e": {
          "model_module": "@jupyter-widgets/controls",
          "model_name": "FloatSliderModel",
          "model_module_version": "1.5.0",
          "state": {
            "_dom_classes": [],
            "_model_module": "@jupyter-widgets/controls",
            "_model_module_version": "1.5.0",
            "_model_name": "FloatSliderModel",
            "_view_count": null,
            "_view_module": "@jupyter-widgets/controls",
            "_view_module_version": "1.5.0",
            "_view_name": "FloatSliderView",
            "continuous_update": true,
            "description": "Unemployment Rate:",
            "description_tooltip": null,
            "disabled": false,
            "layout": "IPY_MODEL_107fb26b049a43cdb62916b6ac7e5bf0",
            "max": 100,
            "min": 0,
            "orientation": "horizontal",
            "readout": true,
            "readout_format": ".2f",
            "step": 0.1,
            "style": "IPY_MODEL_964c09add3ac41d0835733d6e10fb82b",
            "value": 43.5
          }
        },
        "107fb26b049a43cdb62916b6ac7e5bf0": {
          "model_module": "@jupyter-widgets/base",
          "model_name": "LayoutModel",
          "model_module_version": "1.2.0",
          "state": {
            "_model_module": "@jupyter-widgets/base",
            "_model_module_version": "1.2.0",
            "_model_name": "LayoutModel",
            "_view_count": null,
            "_view_module": "@jupyter-widgets/base",
            "_view_module_version": "1.2.0",
            "_view_name": "LayoutView",
            "align_content": null,
            "align_items": null,
            "align_self": null,
            "border": null,
            "bottom": null,
            "display": null,
            "flex": null,
            "flex_flow": null,
            "grid_area": null,
            "grid_auto_columns": null,
            "grid_auto_flow": null,
            "grid_auto_rows": null,
            "grid_column": null,
            "grid_gap": null,
            "grid_row": null,
            "grid_template_areas": null,
            "grid_template_columns": null,
            "grid_template_rows": null,
            "height": null,
            "justify_content": null,
            "justify_items": null,
            "left": null,
            "margin": null,
            "max_height": null,
            "max_width": null,
            "min_height": null,
            "min_width": null,
            "object_fit": null,
            "object_position": null,
            "order": null,
            "overflow": null,
            "overflow_x": null,
            "overflow_y": null,
            "padding": null,
            "right": null,
            "top": null,
            "visibility": null,
            "width": null
          }
        },
        "964c09add3ac41d0835733d6e10fb82b": {
          "model_module": "@jupyter-widgets/controls",
          "model_name": "SliderStyleModel",
          "model_module_version": "1.5.0",
          "state": {
            "_model_module": "@jupyter-widgets/controls",
            "_model_module_version": "1.5.0",
            "_model_name": "SliderStyleModel",
            "_view_count": null,
            "_view_module": "@jupyter-widgets/base",
            "_view_module_version": "1.2.0",
            "_view_name": "StyleView",
            "description_width": "",
            "handle_color": null
          }
        },
        "dbbfa90f83844c9281e3290b24b05825": {
          "model_module": "@jupyter-widgets/controls",
          "model_name": "FloatSliderModel",
          "model_module_version": "1.5.0",
          "state": {
            "_dom_classes": [],
            "_model_module": "@jupyter-widgets/controls",
            "_model_module_version": "1.5.0",
            "_model_name": "FloatSliderModel",
            "_view_count": null,
            "_view_module": "@jupyter-widgets/controls",
            "_view_module_version": "1.5.0",
            "_view_name": "FloatSliderView",
            "continuous_update": true,
            "description": "Inflation Rate:",
            "description_tooltip": null,
            "disabled": false,
            "layout": "IPY_MODEL_229c7533aa02418d9d1ea4b8a7a7c473",
            "max": 15,
            "min": -5,
            "orientation": "horizontal",
            "readout": true,
            "readout_format": ".2f",
            "step": 0.1,
            "style": "IPY_MODEL_00b86a04c2a04a3dbdd4c9ad7a4faa19",
            "value": 15
          }
        },
        "229c7533aa02418d9d1ea4b8a7a7c473": {
          "model_module": "@jupyter-widgets/base",
          "model_name": "LayoutModel",
          "model_module_version": "1.2.0",
          "state": {
            "_model_module": "@jupyter-widgets/base",
            "_model_module_version": "1.2.0",
            "_model_name": "LayoutModel",
            "_view_count": null,
            "_view_module": "@jupyter-widgets/base",
            "_view_module_version": "1.2.0",
            "_view_name": "LayoutView",
            "align_content": null,
            "align_items": null,
            "align_self": null,
            "border": null,
            "bottom": null,
            "display": null,
            "flex": null,
            "flex_flow": null,
            "grid_area": null,
            "grid_auto_columns": null,
            "grid_auto_flow": null,
            "grid_auto_rows": null,
            "grid_column": null,
            "grid_gap": null,
            "grid_row": null,
            "grid_template_areas": null,
            "grid_template_columns": null,
            "grid_template_rows": null,
            "height": null,
            "justify_content": null,
            "justify_items": null,
            "left": null,
            "margin": null,
            "max_height": null,
            "max_width": null,
            "min_height": null,
            "min_width": null,
            "object_fit": null,
            "object_position": null,
            "order": null,
            "overflow": null,
            "overflow_x": null,
            "overflow_y": null,
            "padding": null,
            "right": null,
            "top": null,
            "visibility": null,
            "width": null
          }
        },
        "00b86a04c2a04a3dbdd4c9ad7a4faa19": {
          "model_module": "@jupyter-widgets/controls",
          "model_name": "SliderStyleModel",
          "model_module_version": "1.5.0",
          "state": {
            "_model_module": "@jupyter-widgets/controls",
            "_model_module_version": "1.5.0",
            "_model_name": "SliderStyleModel",
            "_view_count": null,
            "_view_module": "@jupyter-widgets/base",
            "_view_module_version": "1.2.0",
            "_view_name": "StyleView",
            "description_width": "",
            "handle_color": null
          }
        },
        "f456a2a425bb48bd9c283974e95f469b": {
          "model_module": "@jupyter-widgets/controls",
          "model_name": "FloatSliderModel",
          "model_module_version": "1.5.0",
          "state": {
            "_dom_classes": [],
            "_model_module": "@jupyter-widgets/controls",
            "_model_module_version": "1.5.0",
            "_model_name": "FloatSliderModel",
            "_view_count": null,
            "_view_module": "@jupyter-widgets/controls",
            "_view_module_version": "1.5.0",
            "_view_name": "FloatSliderView",
            "continuous_update": true,
            "description": "Interest Rate:",
            "description_tooltip": null,
            "disabled": false,
            "layout": "IPY_MODEL_ed8f8420f1074edcb1984735dcac8564",
            "max": 10,
            "min": -1,
            "orientation": "horizontal",
            "readout": true,
            "readout_format": ".2f",
            "step": 0.1,
            "style": "IPY_MODEL_19e1d6e0fb334d46863bdd11b0e10d91",
            "value": 10
          }
        },
        "ed8f8420f1074edcb1984735dcac8564": {
          "model_module": "@jupyter-widgets/base",
          "model_name": "LayoutModel",
          "model_module_version": "1.2.0",
          "state": {
            "_model_module": "@jupyter-widgets/base",
            "_model_module_version": "1.2.0",
            "_model_name": "LayoutModel",
            "_view_count": null,
            "_view_module": "@jupyter-widgets/base",
            "_view_module_version": "1.2.0",
            "_view_name": "LayoutView",
            "align_content": null,
            "align_items": null,
            "align_self": null,
            "border": null,
            "bottom": null,
            "display": null,
            "flex": null,
            "flex_flow": null,
            "grid_area": null,
            "grid_auto_columns": null,
            "grid_auto_flow": null,
            "grid_auto_rows": null,
            "grid_column": null,
            "grid_gap": null,
            "grid_row": null,
            "grid_template_areas": null,
            "grid_template_columns": null,
            "grid_template_rows": null,
            "height": null,
            "justify_content": null,
            "justify_items": null,
            "left": null,
            "margin": null,
            "max_height": null,
            "max_width": null,
            "min_height": null,
            "min_width": null,
            "object_fit": null,
            "object_position": null,
            "order": null,
            "overflow": null,
            "overflow_x": null,
            "overflow_y": null,
            "padding": null,
            "right": null,
            "top": null,
            "visibility": null,
            "width": null
          }
        },
        "19e1d6e0fb334d46863bdd11b0e10d91": {
          "model_module": "@jupyter-widgets/controls",
          "model_name": "SliderStyleModel",
          "model_module_version": "1.5.0",
          "state": {
            "_model_module": "@jupyter-widgets/controls",
            "_model_module_version": "1.5.0",
            "_model_name": "SliderStyleModel",
            "_view_count": null,
            "_view_module": "@jupyter-widgets/base",
            "_view_module_version": "1.2.0",
            "_view_name": "StyleView",
            "description_width": "",
            "handle_color": null
          }
        },
        "90a4e8431ac24eb480343ec02ad63d4a": {
          "model_module": "@jupyter-widgets/controls",
          "model_name": "ButtonModel",
          "model_module_version": "1.5.0",
          "state": {
            "_dom_classes": [],
            "_model_module": "@jupyter-widgets/controls",
            "_model_module_version": "1.5.0",
            "_model_name": "ButtonModel",
            "_view_count": null,
            "_view_module": "@jupyter-widgets/controls",
            "_view_module_version": "1.5.0",
            "_view_name": "ButtonView",
            "button_style": "",
            "description": "Predict",
            "disabled": false,
            "icon": "",
            "layout": "IPY_MODEL_21c2327c4f5748318b822e9129cbcc35",
            "style": "IPY_MODEL_0b596dc2794247fc96e143f685f49b0d",
            "tooltip": ""
          }
        },
        "21c2327c4f5748318b822e9129cbcc35": {
          "model_module": "@jupyter-widgets/base",
          "model_name": "LayoutModel",
          "model_module_version": "1.2.0",
          "state": {
            "_model_module": "@jupyter-widgets/base",
            "_model_module_version": "1.2.0",
            "_model_name": "LayoutModel",
            "_view_count": null,
            "_view_module": "@jupyter-widgets/base",
            "_view_module_version": "1.2.0",
            "_view_name": "LayoutView",
            "align_content": null,
            "align_items": null,
            "align_self": null,
            "border": null,
            "bottom": null,
            "display": null,
            "flex": null,
            "flex_flow": null,
            "grid_area": null,
            "grid_auto_columns": null,
            "grid_auto_flow": null,
            "grid_auto_rows": null,
            "grid_column": null,
            "grid_gap": null,
            "grid_row": null,
            "grid_template_areas": null,
            "grid_template_columns": null,
            "grid_template_rows": null,
            "height": null,
            "justify_content": null,
            "justify_items": null,
            "left": null,
            "margin": null,
            "max_height": null,
            "max_width": null,
            "min_height": null,
            "min_width": null,
            "object_fit": null,
            "object_position": null,
            "order": null,
            "overflow": null,
            "overflow_x": null,
            "overflow_y": null,
            "padding": null,
            "right": null,
            "top": null,
            "visibility": null,
            "width": null
          }
        },
        "0b596dc2794247fc96e143f685f49b0d": {
          "model_module": "@jupyter-widgets/controls",
          "model_name": "ButtonStyleModel",
          "model_module_version": "1.5.0",
          "state": {
            "_model_module": "@jupyter-widgets/controls",
            "_model_module_version": "1.5.0",
            "_model_name": "ButtonStyleModel",
            "_view_count": null,
            "_view_module": "@jupyter-widgets/base",
            "_view_module_version": "1.2.0",
            "_view_name": "StyleView",
            "button_color": null,
            "font_weight": ""
          }
        }
      }
    }
  },
  "cells": [
    {
      "cell_type": "markdown",
      "source": [
        "**RECESSION PREDICTION**"
      ],
      "metadata": {
        "id": "yjSNnoVpmvo4"
      }
    },
    {
      "cell_type": "markdown",
      "source": [
        "Step 1: Import Libraries and Load Data"
      ],
      "metadata": {
        "id": "nC_qwDmLkyMC"
      }
    },
    {
      "cell_type": "code",
      "execution_count": 1,
      "metadata": {
        "id": "d0V9LuYykvpQ"
      },
      "outputs": [],
      "source": [
        "import pandas as pd\n",
        "from sklearn.preprocessing import StandardScaler\n",
        "from sklearn.model_selection import train_test_split\n",
        "from sklearn.ensemble import RandomForestClassifier, GradientBoostingClassifier\n",
        "from sklearn.linear_model import LogisticRegression\n",
        "from sklearn.metrics import accuracy_score, roc_curve, roc_auc_score\n",
        "import matplotlib.pyplot as plt\n",
        "from ipywidgets import interact, widgets\n",
        "import joblib\n",
        "\n",
        "# Load data\n",
        "data = pd.read_csv('/content/recession.csv')\n",
        "\n",
        "# Drop 'Stock Market Index' from features\n",
        "data.drop('stock_market_index', axis=1, inplace=True)"
      ]
    },
    {
      "cell_type": "markdown",
      "source": [
        "Step 2: Separate Features and Target Variable, Standardize Features"
      ],
      "metadata": {
        "id": "InhevJX6lQ0g"
      }
    },
    {
      "cell_type": "code",
      "source": [
        "# Separate features and target variable\n",
        "X = data.drop('recession', axis=1)\n",
        "y = data['recession']\n",
        "\n",
        "# Standardize the features\n",
        "scaler = StandardScaler()\n",
        "X_scaled = scaler.fit_transform(X)"
      ],
      "metadata": {
        "id": "l7E3S1EQlwks"
      },
      "execution_count": 2,
      "outputs": []
    },
    {
      "cell_type": "markdown",
      "source": [
        "Step 3: Split Data into Training and Testing Sets"
      ],
      "metadata": {
        "id": "2bcXpoxKlzBV"
      }
    },
    {
      "cell_type": "code",
      "source": [
        "# Split the data into training and testing sets\n",
        "X_train, X_test, y_train, y_test = train_test_split(X_scaled, y, test_size=0.2, random_state=42)"
      ],
      "metadata": {
        "id": "g6E4QfF2l1d7"
      },
      "execution_count": 3,
      "outputs": []
    },
    {
      "cell_type": "markdown",
      "source": [
        "Step 4: Train Multiple Models and Save Them"
      ],
      "metadata": {
        "id": "nyAyvd_wl-D6"
      }
    },
    {
      "cell_type": "code",
      "source": [
        "# Train multiple models\n",
        "rf_model = RandomForestClassifier(n_estimators=100, random_state=42)\n",
        "gb_model = GradientBoostingClassifier(n_estimators=100, random_state=42)\n",
        "lr_model = LogisticRegression(random_state=42)\n",
        "\n",
        "rf_model.fit(X_train, y_train)\n",
        "gb_model.fit(X_train, y_train)\n",
        "lr_model.fit(X_train, y_train)\n",
        "\n",
        "# Save the models\n",
        "joblib.dump(rf_model, 'rf_model.pkl')\n",
        "joblib.dump(gb_model, 'gb_model.pkl')\n",
        "joblib.dump(lr_model, 'lr_model.pkl')"
      ],
      "metadata": {
        "colab": {
          "base_uri": "https://localhost:8080/"
        },
        "id": "xZ9cbLcUmBPH",
        "outputId": "e9309b84-b345-4ea2-d8cb-da6ccf11e204"
      },
      "execution_count": 4,
      "outputs": [
        {
          "output_type": "execute_result",
          "data": {
            "text/plain": [
              "['lr_model.pkl']"
            ]
          },
          "metadata": {},
          "execution_count": 4
        }
      ]
    },
    {
      "cell_type": "markdown",
      "source": [
        "Step 5: Function to Evaluate Accuracy of Each Model"
      ],
      "metadata": {
        "id": "KtPPuzjBmEgJ"
      }
    },
    {
      "cell_type": "code",
      "source": [
        "# Function to evaluate accuracy of each model\n",
        "def evaluate_models(X_test, y_test):\n",
        "    models = {'Random Forest': rf_model, 'Gradient Boosting': gb_model, 'Logistic Regression': lr_model}\n",
        "    for name, model in models.items():\n",
        "        y_pred = model.predict(X_test)\n",
        "        accuracy = accuracy_score(y_test, y_pred)\n",
        "        print(f'{name} Accuracy: {accuracy:.2f}')\n",
        "\n",
        "# Evaluate accuracy\n",
        "print('Accuracy Scores:')\n",
        "evaluate_models(X_test, y_test)"
      ],
      "metadata": {
        "colab": {
          "base_uri": "https://localhost:8080/"
        },
        "id": "6iFysTnAmDon",
        "outputId": "cf79b85a-993d-4907-f942-9b5c2e65e8ba"
      },
      "execution_count": 5,
      "outputs": [
        {
          "output_type": "stream",
          "name": "stdout",
          "text": [
            "Accuracy Scores:\n",
            "Random Forest Accuracy: 1.00\n",
            "Gradient Boosting Accuracy: 1.00\n",
            "Logistic Regression Accuracy: 0.93\n"
          ]
        }
      ]
    },
    {
      "cell_type": "markdown",
      "source": [
        "Step 6: Function to Plot ROC Curves for Each Model"
      ],
      "metadata": {
        "id": "jS3qH4UUmOd6"
      }
    },
    {
      "cell_type": "code",
      "source": [
        "# Function to plot ROC curve for each model\n",
        "def plot_roc_curves(X_test, y_test):\n",
        "    models = {'Random Forest': rf_model, 'Gradient Boosting': gb_model, 'Logistic Regression': lr_model}\n",
        "    plt.figure(figsize=(8, 6))\n",
        "    for name, model in models.items():\n",
        "        y_prob = model.predict_proba(X_test)[:, 1]\n",
        "        fpr, tpr, _ = roc_curve(y_test, y_prob)\n",
        "        auc_score = roc_auc_score(y_test, y_prob)\n",
        "        plt.plot(fpr, tpr, label=f'{name} (AUC = {auc_score:.2f})')\n",
        "\n",
        "    plt.plot([0, 1], [0, 1], linestyle='--', color='gray')\n",
        "    plt.xlabel('False Positive Rate')\n",
        "    plt.ylabel('True Positive Rate')\n",
        "    plt.title('ROC Curves')\n",
        "    plt.legend()\n",
        "    plt.show()\n",
        "\n",
        "# Plot ROC curves\n",
        "plot_roc_curves(X_test, y_test)"
      ],
      "metadata": {
        "colab": {
          "base_uri": "https://localhost:8080/",
          "height": 514
        },
        "id": "nI7PcvTAmJgz",
        "outputId": "51ae882b-8b89-4368-85da-2d0a00ea25f6"
      },
      "execution_count": 6,
      "outputs": [
        {
          "output_type": "display_data",
          "data": {
            "text/plain": [
              "<Figure size 800x600 with 1 Axes>"
            ],
            "image/png": "[encoded data removed]"
          },
          "metadata": {}
        }
      ]
    },
    {
      "cell_type": "markdown",
      "source": [
        "Step 7: Function to Predict Recession Using an Ensemble of Models"
      ],
      "metadata": {
        "id": "xpFWjY9MmT_U"
      }
    },
    {
      "cell_type": "code",
      "source": [
        "# Function to predict recession using an ensemble of models\n",
        "def predict_recession(input_data):\n",
        "    # Load models\n",
        "    rf_model = joblib.load('rf_model.pkl')\n",
        "    gb_model = joblib.load('gb_model.pkl')\n",
        "    lr_model = joblib.load('lr_model.pkl')\n",
        "\n",
        "    # Transform input data\n",
        "    input_df = pd.DataFrame([input_data])\n",
        "    input_scaled = scaler.transform(input_df)  # Assuming scaler is saved separately\n",
        "\n",
        "    # Make predictions\n",
        "    rf_pred = rf_model.predict(input_scaled)[0]\n",
        "    gb_pred = gb_model.predict(input_scaled)[0]\n",
        "    lr_pred = lr_model.predict(input_scaled)[0]\n",
        "\n",
        "    # Combine predictions (simple voting)\n",
        "    ensemble_prediction = (rf_pred + gb_pred + lr_pred) / 3\n",
        "\n",
        "    # Threshold for decision (adjust as needed)\n",
        "    threshold = 0.5\n",
        "    if ensemble_prediction >= threshold:\n",
        "        return 1  # Recession predicted\n",
        "    else:\n",
        "        return 0  # No recession predicted"
      ],
      "metadata": {
        "id": "-GMuQXZ4mRKm"
      },
      "execution_count": 7,
      "outputs": []
    },
    {
      "cell_type": "markdown",
      "source": [
        "Step 8: Function to Handle Interactive Prediction"
      ],
      "metadata": {
        "id": "UyFEc8mDmZ4X"
      }
    },
    {
      "cell_type": "code",
      "source": [
        "def predict_interactively():\n",
        "    # Create widgets for input features\n",
        "    gdp_growth_slider = widgets.FloatSlider(min=-10.0, max=10.0, step=0.1, description='GDP Growth:')\n",
        "    unemployment_rate_slider = widgets.FloatSlider(min=0.0, max=100.0, step=0.1, description='Unemployment Rate:')\n",
        "    inflation_rate_slider = widgets.FloatSlider(min=-5.0, max=15.0, step=0.1, description='Inflation Rate:')\n",
        "    interest_rate_slider = widgets.FloatSlider(min=-1.0, max=10.0, step=0.1, description='Interest Rate:')\n",
        "    predict_button = widgets.Button(description=\"Predict\")\n",
        "\n",
        "    # Define function to handle prediction and display\n",
        "    def handle_prediction(button):\n",
        "        # Retrieve values from sliders\n",
        "        gdp_growth = gdp_growth_slider.value\n",
        "        unemployment_rate = unemployment_rate_slider.value\n",
        "        inflation_rate = inflation_rate_slider.value\n",
        "        interest_rate = interest_rate_slider.value\n",
        "\n",
        "        # Create input data dictionary\n",
        "        input_data = {\n",
        "            'gdp_growth': gdp_growth,\n",
        "            'unemployment_rate': unemployment_rate,\n",
        "            'inflation_rate': inflation_rate,\n",
        "            'interest_rate': interest_rate\n",
        "        }\n",
        "\n",
        "        # Predict recession\n",
        "        prediction = predict_recession(input_data)\n",
        "\n",
        "        # Display prediction\n",
        "        print(f'\\nInput Data:\\n'\n",
        "              f'GDP Growth: {gdp_growth}\\n'\n",
        "              f'Unemployment Rate: {unemployment_rate}\\n'\n",
        "              f'Inflation Rate: {inflation_rate}\\n'\n",
        "              f'Interest Rate: {interest_rate}\\n'\n",
        "              f'\\nRecession Prediction: {\"Yes\" if prediction == 1 else \"No\"}')\n",
        "\n",
        "    # Attach the function to the button click event\n",
        "    predict_button.on_click(handle_prediction)\n",
        "\n",
        "    # Display widgets\n",
        "    display(gdp_growth_slider, unemployment_rate_slider, inflation_rate_slider, interest_rate_slider, predict_button)\n",
        "\n",
        "# Call function to start interactive prediction\n",
        "predict_interactively()\n"
      ],
      "metadata": {
        "colab": {
          "base_uri": "https://localhost:8080/",
          "height": 885,
          "referenced_widgets": [
            "9717b3001622417da42850e7bc65ec13",
            "e60a1dad6b0946d68e0af0e9b22471f6",
            "f7ccc4a147194f3594f13c73529bb1b1",
            "3d9772b6e4af487ab6b0090430e2516e",
            "107fb26b049a43cdb62916b6ac7e5bf0",
            "964c09add3ac41d0835733d6e10fb82b",
            "dbbfa90f83844c9281e3290b24b05825",
            "229c7533aa02418d9d1ea4b8a7a7c473",
            "00b86a04c2a04a3dbdd4c9ad7a4faa19",
            "f456a2a425bb48bd9c283974e95f469b",
            "ed8f8420f1074edcb1984735dcac8564",
            "19e1d6e0fb334d46863bdd11b0e10d91",
            "90a4e8431ac24eb480343ec02ad63d4a",
            "21c2327c4f5748318b822e9129cbcc35",
            "0b596dc2794247fc96e143f685f49b0d"
          ]
        },
        "id": "OHXnV1-3mW6h",
        "outputId": "c5619d02-e0e0-4636-c97c-822f4800af8a"
      },
      "execution_count": 15,
      "outputs": [
        {
          "output_type": "display_data",
          "data": {
            "text/plain": [
              "FloatSlider(value=0.0, description='GDP Growth:', max=10.0, min=-10.0)"
            ],
            "application/vnd.jupyter.widget-view+json": {
              "version_major": 2,
              "version_minor": 0,
              "model_id": "9717b3001622417da42850e7bc65ec13"
            }
          },
          "metadata": {}
        },
        {
          "output_type": "display_data",
          "data": {
            "text/plain": [
              "FloatSlider(value=0.0, description='Unemployment Rate:')"
            ],
            "application/vnd.jupyter.widget-view+json": {
              "version_major": 2,
              "version_minor": 0,
              "model_id": "3d9772b6e4af487ab6b0090430e2516e"
            }
          },
          "metadata": {}
        },
        {
          "output_type": "display_data",
          "data": {
            "text/plain": [
              "FloatSlider(value=0.0, description='Inflation Rate:', max=15.0, min=-5.0)"
            ],
            "application/vnd.jupyter.widget-view+json": {
              "version_major": 2,
              "version_minor": 0,
              "model_id": "dbbfa90f83844c9281e3290b24b05825"
            }
          },
          "metadata": {}
        },
        {
          "output_type": "display_data",
          "data": {
            "text/plain": [
              "FloatSlider(value=0.0, description='Interest Rate:', max=10.0, min=-1.0)"
            ],
            "application/vnd.jupyter.widget-view+json": {
              "version_major": 2,
              "version_minor": 0,
              "model_id": "f456a2a425bb48bd9c283974e95f469b"
            }
          },
          "metadata": {}
        },
        {
          "output_type": "display_data",
          "data": {
            "text/plain": [
              "Button(description='Predict', style=ButtonStyle())"
            ],
            "application/vnd.jupyter.widget-view+json": {
              "version_major": 2,
              "version_minor": 0,
              "model_id": "90a4e8431ac24eb480343ec02ad63d4a"
            }
          },
          "metadata": {}
        },
        {
          "output_type": "stream",
          "name": "stdout",
          "text": [
            "\n",
            "Input Data:\n",
            "GDP Growth: 0.0\n",
            "Unemployment Rate: 9.2\n",
            "Inflation Rate: 15.0\n",
            "Interest Rate: 0.0\n",
            "\n",
            "Recession Prediction: No\n",
            "\n",
            "Input Data:\n",
            "GDP Growth: -5.7\n",
            "Unemployment Rate: 86.0\n",
            "Inflation Rate: 15.0\n",
            "Interest Rate: 0.0\n",
            "\n",
            "Recession Prediction: Yes\n",
            "\n",
            "Input Data:\n",
            "GDP Growth: -5.7\n",
            "Unemployment Rate: 86.0\n",
            "Inflation Rate: 15.0\n",
            "Interest Rate: 10.0\n",
            "\n",
            "Recession Prediction: Yes\n",
            "\n",
            "Input Data:\n",
            "GDP Growth: -5.7\n",
            "Unemployment Rate: 0.0\n",
            "Inflation Rate: 15.0\n",
            "Interest Rate: 10.0\n",
            "\n",
            "Recession Prediction: No\n",
            "\n",
            "Input Data:\n",
            "GDP Growth: 4.8\n",
            "Unemployment Rate: 0.0\n",
            "Inflation Rate: 15.0\n",
            "Interest Rate: 10.0\n",
            "\n",
            "Recession Prediction: No\n"
          ]
        }
      ]
    },
    {
      "cell_type": "code",
      "source": [],
      "metadata": {
        "id": "hE2OTJ2nMsOx"
      },
      "execution_count": null,
      "outputs": []
    }
  ]
}